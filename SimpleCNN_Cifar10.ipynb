{
 "cells": [
  {
   "cell_type": "code",
   "execution_count": 2,
   "metadata": {},
   "outputs": [],
   "source": [
    "import numpy as np\n",
    "import keras\n",
    "import tensorflow as tf\n",
    "from keras.datasets import cifar10\n",
    "from keras.models import Model\n",
    "from keras.optimizers import SGD\n",
    "from keras.layers import Flatten, Dense, Dropout, Input, BatchNormalization, Activation\n",
    "from keras.layers.convolutional import Conv2D, MaxPooling2D, ZeroPadding2D\n",
    "from keras.constraints import maxnorm\n",
    "from keras.optimizers import Adam\n",
    "from keras.preprocessing import image\n",
    "from keras.applications.imagenet_utils import preprocess_input\n",
    "\n",
    "from keras import backend as K\n",
    "K.set_image_data_format('channels_last')"
   ]
  },
  {
   "cell_type": "code",
   "execution_count": 3,
   "metadata": {},
   "outputs": [
    {
     "name": "stdout",
     "output_type": "stream",
     "text": [
      "(50000, 32, 32, 3)\n",
      "Model: \"AnimalModel\"\n",
      "_________________________________________________________________\n",
      "Layer (type)                 Output Shape              Param #   \n",
      "=================================================================\n",
      "input_1 (InputLayer)         [(None, 32, 32, 3)]       0         \n",
      "_________________________________________________________________\n",
      "zero_padding2d (ZeroPadding2 (None, 38, 38, 3)         0         \n",
      "_________________________________________________________________\n",
      "conv0 (Conv2D)               (None, 32, 32, 32)        4736      \n",
      "_________________________________________________________________\n",
      "bn0 (BatchNormalization)     (None, 32, 32, 32)        128       \n",
      "_________________________________________________________________\n",
      "activation (Activation)      (None, 32, 32, 32)        0         \n",
      "_________________________________________________________________\n",
      "max_pool (MaxPooling2D)      (None, 16, 16, 32)        0         \n",
      "_________________________________________________________________\n",
      "flatten (Flatten)            (None, 8192)              0         \n",
      "_________________________________________________________________\n",
      "sm (Dense)                   (None, 10)                81930     \n",
      "=================================================================\n",
      "Total params: 86,794\n",
      "Trainable params: 86,730\n",
      "Non-trainable params: 64\n",
      "_________________________________________________________________\n"
     ]
    }
   ],
   "source": [
    "(X_train, Y_train), (X_test, Y_test) = cifar10.load_data()\n",
    "print(X_train.shape)\n",
    "X_input = Input(X_train.shape[1:])\n",
    "X = ZeroPadding2D((3, 3))(X_input)\n",
    "X = Conv2D(32, (7, 7), strides=(1, 1), name='conv0')(X)\n",
    "X = BatchNormalization(axis = 3, name = 'bn0')(X)\n",
    "X = Activation('relu')(X)\n",
    "X = MaxPooling2D((2, 2), name='max_pool')(X)\n",
    "\n",
    "X = Flatten()(X)\n",
    "X = Dense(10, activation='softmax', name='sm')(X)\n",
    "\n",
    "model = Model(inputs = X_input, outputs = X, name='SimpleModel')\n",
    "model.summary()\n"
   ]
  },
  {
   "cell_type": "code",
   "execution_count": 8,
   "metadata": {
    "scrolled": false
   },
   "outputs": [
    {
     "name": "stdout",
     "output_type": "stream",
     "text": [
      "Epoch 1/5\n",
      "137/137 [==============================] - 60s 434ms/step - loss: 0.7696 - accuracy: 0.7424 - val_loss: 1.1141 - val_accuracy: 0.6335\n",
      "Epoch 2/5\n",
      "137/137 [==============================] - 60s 442ms/step - loss: 0.6994 - accuracy: 0.7644 - val_loss: 1.1307 - val_accuracy: 0.6334\n",
      "Epoch 3/5\n",
      "137/137 [==============================] - 59s 432ms/step - loss: 0.6740 - accuracy: 0.7745 - val_loss: 1.1169 - val_accuracy: 0.6295\n",
      "Epoch 4/5\n",
      "137/137 [==============================] - 59s 427ms/step - loss: 0.6558 - accuracy: 0.7800 - val_loss: 1.1050 - val_accuracy: 0.6445\n",
      "Epoch 5/5\n",
      "137/137 [==============================] - 58s 421ms/step - loss: 0.6166 - accuracy: 0.7916 - val_loss: 1.1402 - val_accuracy: 0.6409\n"
     ]
    }
   ],
   "source": [
    "model.compile(optimizer='adam', loss='sparse_categorical_crossentropy', metrics=['accuracy'])\n",
    "simpleModel = model.fit(x=X_train, y=Y_train, epochs=5, batch_size=256, validation_split=0.3)"
   ]
  },
  {
   "cell_type": "code",
   "execution_count": 9,
   "metadata": {},
   "outputs": [
    {
     "name": "stdout",
     "output_type": "stream",
     "text": [
      "Accuracy: 64.00%\n"
     ]
    }
   ],
   "source": [
    "scores = model.evaluate(X_test, Y_test, verbose=0)\n",
    "print(\"Accuracy: %.2f%%\" % (scores[1]*100))"
   ]
  }
 ],
 "metadata": {
  "kernelspec": {
   "display_name": "Python 3",
   "language": "python",
   "name": "python3"
  },
  "language_info": {
   "codemirror_mode": {
    "name": "ipython",
    "version": 3
   },
   "file_extension": ".py",
   "mimetype": "text/x-python",
   "name": "python",
   "nbconvert_exporter": "python",
   "pygments_lexer": "ipython3",
   "version": "3.8.2"
  }
 },
 "nbformat": 4,
 "nbformat_minor": 4
}
